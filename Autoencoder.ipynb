{
  "nbformat": 4,
  "nbformat_minor": 0,
  "metadata": {
    "colab": {
      "name": "Autoencoder.ipynb",
      "provenance": [],
      "authorship_tag": "ABX9TyMWUbFuXu4DWdHPfDMep03m",
      "include_colab_link": true
    },
    "kernelspec": {
      "name": "python3",
      "display_name": "Python 3"
    },
    "language_info": {
      "name": "python"
    },
    "accelerator": "GPU"
  },
  "cells": [
    {
      "cell_type": "markdown",
      "metadata": {
        "id": "view-in-github",
        "colab_type": "text"
      },
      "source": [
        "<a href=\"https://colab.research.google.com/github/snickerphudle/FutureMakers2021/blob/main/Autoencoder.ipynb\" target=\"_parent\"><img src=\"https://colab.research.google.com/assets/colab-badge.svg\" alt=\"Open In Colab\"/></a>"
      ]
    },
    {
      "cell_type": "code",
      "metadata": {
        "id": "F95_1BCFnLFU"
      },
      "source": [
        "#https://blog.keras.io/building-autoencoders-in-keras.html\n",
        "\n",
        "#1. Simple Autoencoder based on fully connected network\n",
        "#2. Sparse Autoencoder (pretty similar to 1st one)\n",
        "#3. Deep Autoencoder based on a fully connected network\n",
        "#4. Deep Autoencoder based on a convolutional network\n",
        "#5. Application of the 4th autoencoder - Image Denoising Model\n",
        "#6. A sequence-to-sequence autoencoder\n",
        "#7. A variational autoencoder\n",
        "\n",
        "#Autoencoders compress data and learns the most key/efficient features and recreates it"
      ],
      "execution_count": null,
      "outputs": []
    },
    {
      "cell_type": "code",
      "metadata": {
        "id": "jf7w2oDxoYxT"
      },
      "source": [
        "import keras\n",
        "from keras.layers import Dense"
      ],
      "execution_count": null,
      "outputs": []
    },
    {
      "cell_type": "markdown",
      "metadata": {
        "id": "Zjv0ZTYVo-Ji"
      },
      "source": [
        "##1. Simple Autoencoder based on fully connected network"
      ]
    },
    {
      "cell_type": "code",
      "metadata": {
        "id": "DwZBsOtSotoP"
      },
      "source": [
        "#nodes in the middle layer\n",
        "encoding_dim = 32\n",
        "\n",
        "#input layer\n",
        "input_img = keras.Input(shape = (784,))\n",
        "\n",
        "#encoding layer has 32 nodes\n",
        "encoded = Dense(encoding_dim, activation = 'relu')(input_img)\n",
        "\n",
        "#decoding layer has 784 nodes\n",
        "decoded = layers.Dense(784, activation = 'softmax')(encoded)\n",
        "\n",
        "autoencoder = keras.Model(input_img, decoded)"
      ],
      "execution_count": null,
      "outputs": []
    },
    {
      "cell_type": "markdown",
      "metadata": {
        "id": "yudjRxiDs5e4"
      },
      "source": [
        "NOTE: Building this model is different from normal models. Each layer is linked. Each layer is performing a function on the output of the last layer. You can also build a model using model.add and sequential. This way of creating a model is the native way, TensorFlow, which is good for more complex architectures. For example, some layers will be linked to 3 others layers. In that case, you would create a model with this method so you can specify the way you want it to go. "
      ]
    },
    {
      "cell_type": "markdown",
      "metadata": {
        "id": "2rD-E-BGxs_y"
      },
      "source": [
        "compile the autoencoder and import the data sets"
      ]
    },
    {
      "cell_type": "code",
      "metadata": {
        "id": "Xz1QyMsHxM5P"
      },
      "source": [
        "autoencoder.compile(optimizer = 'adam', loss = 'binary_crossentropy')"
      ],
      "execution_count": null,
      "outputs": []
    },
    {
      "cell_type": "code",
      "metadata": {
        "colab": {
          "base_uri": "https://localhost:8080/"
        },
        "id": "p6yvYg5lxS6Q",
        "outputId": "69dbbad7-02c3-4ceb-87eb-908cd1fd649b"
      },
      "source": [
        "from keras.datasets import mnist\n",
        "import numpy as np\n",
        "\n",
        "#we don't care about the label, we're trying to recreate the image using the input\n",
        "(x_train, _), (x_test, _) = mnist.load_data()\n",
        "\n",
        "x_train.shape\n",
        "x_test.shape"
      ],
      "execution_count": null,
      "outputs": [
        {
          "output_type": "execute_result",
          "data": {
            "text/plain": [
              "(10000, 28, 28)"
            ]
          },
          "metadata": {
            "tags": []
          },
          "execution_count": 32
        }
      ]
    },
    {
      "cell_type": "markdown",
      "metadata": {
        "id": "_QBF3InHxvoC"
      },
      "source": [
        "preprocessing"
      ]
    },
    {
      "cell_type": "code",
      "metadata": {
        "colab": {
          "base_uri": "https://localhost:8080/"
        },
        "id": "8pwbObdpxrnY",
        "outputId": "27820d59-727d-4565-9842-f2aac33b34bb"
      },
      "source": [
        "#normalization of sll the pixel values\n",
        "#train data is stored in numpy array\n",
        "#you can't perform division on normal arrays, but you can on numpy arrays\n",
        "x_train = x_train.astype('float32') / 255.0\n",
        "x_test = x_test.astype('float32') / 255.0\n",
        "\n",
        "#reshape the data from a 28x28 matrix to a 784 array\n",
        "x_train = x_train.reshape((len(x_train),np.prod(x_train.shape[1:])))\n",
        "x_test = x_test.reshape((len(x_test),np.prod(x_test.shape[1:])))\n",
        "\n",
        "x_train.shape"
      ],
      "execution_count": null,
      "outputs": [
        {
          "output_type": "execute_result",
          "data": {
            "text/plain": [
              "(60000, 784)"
            ]
          },
          "metadata": {
            "tags": []
          },
          "execution_count": 40
        }
      ]
    },
    {
      "cell_type": "code",
      "metadata": {
        "colab": {
          "base_uri": "https://localhost:8080/"
        },
        "id": "d6VAmTj_0Q5z",
        "outputId": "89ecda45-d290-4783-d5f1-a87bc77e1a36"
      },
      "source": [
        "autoencoder.fit(x_train, x_train, epochs=5, batch_size=256, shuffle=True, validation_data=(x_test, x_test))\n",
        "# try for batch sizes 32, 64, 128\n",
        "# try for epochs 10, 50, 100"
      ],
      "execution_count": null,
      "outputs": [
        {
          "output_type": "stream",
          "text": [
            "Epoch 1/5\n",
            "235/235 [==============================] - 9s 6ms/step - loss: 0.3798 - val_loss: 0.1919\n",
            "Epoch 2/5\n",
            "235/235 [==============================] - 1s 4ms/step - loss: 0.1819 - val_loss: 0.1539\n",
            "Epoch 3/5\n",
            "235/235 [==============================] - 1s 4ms/step - loss: 0.1504 - val_loss: 0.1345\n",
            "Epoch 4/5\n",
            "235/235 [==============================] - 1s 4ms/step - loss: 0.1323 - val_loss: 0.1216\n",
            "Epoch 5/5\n",
            "235/235 [==============================] - 1s 4ms/step - loss: 0.1205 - val_loss: 0.1131\n"
          ],
          "name": "stdout"
        },
        {
          "output_type": "execute_result",
          "data": {
            "text/plain": [
              "<keras.callbacks.History at 0x7ff7628e1b10>"
            ]
          },
          "metadata": {
            "tags": []
          },
          "execution_count": 34
        }
      ]
    }
  ]
}