{
  "nbformat": 4,
  "nbformat_minor": 0,
  "metadata": {
    "colab": {
      "name": "HousingPrices.ipynb",
      "provenance": [],
      "authorship_tag": "ABX9TyMXvtUYkWVTdSI+pWSNypc+",
      "include_colab_link": true
    },
    "kernelspec": {
      "name": "python3",
      "display_name": "Python 3"
    },
    "language_info": {
      "name": "python"
    }
  },
  "cells": [
    {
      "cell_type": "markdown",
      "metadata": {
        "id": "view-in-github",
        "colab_type": "text"
      },
      "source": [
        "<a href=\"https://colab.research.google.com/github/snickerphudle/FutureMakers2021/blob/main/HousingPrices.ipynb\" target=\"_parent\"><img src=\"https://colab.research.google.com/assets/colab-badge.svg\" alt=\"Open In Colab\"/></a>"
      ]
    },
    {
      "cell_type": "code",
      "metadata": {
        "id": "abRUtaUsKCXY"
      },
      "source": [
        "#imports the various libraries\n",
        "import pandas as pd\n",
        "from sklearn import preprocessing\n",
        "from sklearn.model_selection import train_test_split\n",
        "\n",
        "#imports keras libraries for building a neural network\n",
        "from keras.models import Sequential\n",
        "from keras.layers import Dense"
      ],
      "execution_count": 7,
      "outputs": []
    },
    {
      "cell_type": "code",
      "metadata": {
        "id": "XhVbAgh6Kc6g"
      },
      "source": [
        "#read the csv file and store it in the variable df\n",
        "df = pd.read_csv('housepricedata.csv')"
      ],
      "execution_count": 8,
      "outputs": []
    },
    {
      "cell_type": "markdown",
      "metadata": {
        "id": "-pysPHCMKvp4"
      },
      "source": [
        "Below is all the data that is stored in the csv file. There are 10 input features.\n",
        "\n",
        "\n",
        "\n",
        "*   Lot Area (square feet)\n",
        "*   Overall Quality [1 - 10]\n",
        "*   Overall Condition [1 - 10]\n",
        "*   Total Basement Area (in sq ft)\n",
        "*   Number of Full Bathrooms\n",
        "*   Number of Half Bathrooms\n",
        "*   Number of Bedrooms above ground\n",
        "*   Total Number of Rooms above ground\n",
        "*   Number of Fireplaces\n",
        "*   Garage Area (in sq ft)\n",
        "\n",
        "The label we are trying to predict is whether or not the price is above median or not. 1 = yes and 0 = no"
      ]
    },
    {
      "cell_type": "code",
      "metadata": {
        "colab": {
          "base_uri": "https://localhost:8080/",
          "height": 423
        },
        "id": "epK3CA7sKEnO",
        "outputId": "1ce5d8ef-c7d6-437e-e602-39d712828e00"
      },
      "source": [
        "#this line prints all the data into the notebook\n",
        "df"
      ],
      "execution_count": 9,
      "outputs": [
        {
          "output_type": "execute_result",
          "data": {
            "text/html": [
              "<div>\n",
              "<style scoped>\n",
              "    .dataframe tbody tr th:only-of-type {\n",
              "        vertical-align: middle;\n",
              "    }\n",
              "\n",
              "    .dataframe tbody tr th {\n",
              "        vertical-align: top;\n",
              "    }\n",
              "\n",
              "    .dataframe thead th {\n",
              "        text-align: right;\n",
              "    }\n",
              "</style>\n",
              "<table border=\"1\" class=\"dataframe\">\n",
              "  <thead>\n",
              "    <tr style=\"text-align: right;\">\n",
              "      <th></th>\n",
              "      <th>LotArea</th>\n",
              "      <th>OverallQual</th>\n",
              "      <th>OverallCond</th>\n",
              "      <th>TotalBsmtSF</th>\n",
              "      <th>FullBath</th>\n",
              "      <th>HalfBath</th>\n",
              "      <th>BedroomAbvGr</th>\n",
              "      <th>TotRmsAbvGrd</th>\n",
              "      <th>Fireplaces</th>\n",
              "      <th>GarageArea</th>\n",
              "      <th>AboveMedianPrice</th>\n",
              "    </tr>\n",
              "  </thead>\n",
              "  <tbody>\n",
              "    <tr>\n",
              "      <th>0</th>\n",
              "      <td>8450</td>\n",
              "      <td>7</td>\n",
              "      <td>5</td>\n",
              "      <td>856</td>\n",
              "      <td>2</td>\n",
              "      <td>1</td>\n",
              "      <td>3</td>\n",
              "      <td>8</td>\n",
              "      <td>0</td>\n",
              "      <td>548</td>\n",
              "      <td>1</td>\n",
              "    </tr>\n",
              "    <tr>\n",
              "      <th>1</th>\n",
              "      <td>9600</td>\n",
              "      <td>6</td>\n",
              "      <td>8</td>\n",
              "      <td>1262</td>\n",
              "      <td>2</td>\n",
              "      <td>0</td>\n",
              "      <td>3</td>\n",
              "      <td>6</td>\n",
              "      <td>1</td>\n",
              "      <td>460</td>\n",
              "      <td>1</td>\n",
              "    </tr>\n",
              "    <tr>\n",
              "      <th>2</th>\n",
              "      <td>11250</td>\n",
              "      <td>7</td>\n",
              "      <td>5</td>\n",
              "      <td>920</td>\n",
              "      <td>2</td>\n",
              "      <td>1</td>\n",
              "      <td>3</td>\n",
              "      <td>6</td>\n",
              "      <td>1</td>\n",
              "      <td>608</td>\n",
              "      <td>1</td>\n",
              "    </tr>\n",
              "    <tr>\n",
              "      <th>3</th>\n",
              "      <td>9550</td>\n",
              "      <td>7</td>\n",
              "      <td>5</td>\n",
              "      <td>756</td>\n",
              "      <td>1</td>\n",
              "      <td>0</td>\n",
              "      <td>3</td>\n",
              "      <td>7</td>\n",
              "      <td>1</td>\n",
              "      <td>642</td>\n",
              "      <td>0</td>\n",
              "    </tr>\n",
              "    <tr>\n",
              "      <th>4</th>\n",
              "      <td>14260</td>\n",
              "      <td>8</td>\n",
              "      <td>5</td>\n",
              "      <td>1145</td>\n",
              "      <td>2</td>\n",
              "      <td>1</td>\n",
              "      <td>4</td>\n",
              "      <td>9</td>\n",
              "      <td>1</td>\n",
              "      <td>836</td>\n",
              "      <td>1</td>\n",
              "    </tr>\n",
              "    <tr>\n",
              "      <th>...</th>\n",
              "      <td>...</td>\n",
              "      <td>...</td>\n",
              "      <td>...</td>\n",
              "      <td>...</td>\n",
              "      <td>...</td>\n",
              "      <td>...</td>\n",
              "      <td>...</td>\n",
              "      <td>...</td>\n",
              "      <td>...</td>\n",
              "      <td>...</td>\n",
              "      <td>...</td>\n",
              "    </tr>\n",
              "    <tr>\n",
              "      <th>1455</th>\n",
              "      <td>7917</td>\n",
              "      <td>6</td>\n",
              "      <td>5</td>\n",
              "      <td>953</td>\n",
              "      <td>2</td>\n",
              "      <td>1</td>\n",
              "      <td>3</td>\n",
              "      <td>7</td>\n",
              "      <td>1</td>\n",
              "      <td>460</td>\n",
              "      <td>1</td>\n",
              "    </tr>\n",
              "    <tr>\n",
              "      <th>1456</th>\n",
              "      <td>13175</td>\n",
              "      <td>6</td>\n",
              "      <td>6</td>\n",
              "      <td>1542</td>\n",
              "      <td>2</td>\n",
              "      <td>0</td>\n",
              "      <td>3</td>\n",
              "      <td>7</td>\n",
              "      <td>2</td>\n",
              "      <td>500</td>\n",
              "      <td>1</td>\n",
              "    </tr>\n",
              "    <tr>\n",
              "      <th>1457</th>\n",
              "      <td>9042</td>\n",
              "      <td>7</td>\n",
              "      <td>9</td>\n",
              "      <td>1152</td>\n",
              "      <td>2</td>\n",
              "      <td>0</td>\n",
              "      <td>4</td>\n",
              "      <td>9</td>\n",
              "      <td>2</td>\n",
              "      <td>252</td>\n",
              "      <td>1</td>\n",
              "    </tr>\n",
              "    <tr>\n",
              "      <th>1458</th>\n",
              "      <td>9717</td>\n",
              "      <td>5</td>\n",
              "      <td>6</td>\n",
              "      <td>1078</td>\n",
              "      <td>1</td>\n",
              "      <td>0</td>\n",
              "      <td>2</td>\n",
              "      <td>5</td>\n",
              "      <td>0</td>\n",
              "      <td>240</td>\n",
              "      <td>0</td>\n",
              "    </tr>\n",
              "    <tr>\n",
              "      <th>1459</th>\n",
              "      <td>9937</td>\n",
              "      <td>5</td>\n",
              "      <td>6</td>\n",
              "      <td>1256</td>\n",
              "      <td>1</td>\n",
              "      <td>1</td>\n",
              "      <td>3</td>\n",
              "      <td>6</td>\n",
              "      <td>0</td>\n",
              "      <td>276</td>\n",
              "      <td>0</td>\n",
              "    </tr>\n",
              "  </tbody>\n",
              "</table>\n",
              "<p>1460 rows × 11 columns</p>\n",
              "</div>"
            ],
            "text/plain": [
              "      LotArea  OverallQual  ...  GarageArea  AboveMedianPrice\n",
              "0        8450            7  ...         548                 1\n",
              "1        9600            6  ...         460                 1\n",
              "2       11250            7  ...         608                 1\n",
              "3        9550            7  ...         642                 0\n",
              "4       14260            8  ...         836                 1\n",
              "...       ...          ...  ...         ...               ...\n",
              "1455     7917            6  ...         460                 1\n",
              "1456    13175            6  ...         500                 1\n",
              "1457     9042            7  ...         252                 1\n",
              "1458     9717            5  ...         240                 0\n",
              "1459     9937            5  ...         276                 0\n",
              "\n",
              "[1460 rows x 11 columns]"
            ]
          },
          "metadata": {
            "tags": []
          },
          "execution_count": 9
        }
      ]
    },
    {
      "cell_type": "code",
      "metadata": {
        "id": "lJlvlOu9KoU_"
      },
      "source": [
        "#turns the dataframe into an array\n",
        "dataset = df.values"
      ],
      "execution_count": 10,
      "outputs": []
    },
    {
      "cell_type": "code",
      "metadata": {
        "colab": {
          "base_uri": "https://localhost:8080/"
        },
        "id": "CSdvBtKBLsFr",
        "outputId": "23a805a0-ef7d-4e65-ca36-b7be6f1c36b4"
      },
      "source": [
        "#shows what's inside the array\n",
        "dataset"
      ],
      "execution_count": 11,
      "outputs": [
        {
          "output_type": "execute_result",
          "data": {
            "text/plain": [
              "array([[ 8450,     7,     5, ...,     0,   548,     1],\n",
              "       [ 9600,     6,     8, ...,     1,   460,     1],\n",
              "       [11250,     7,     5, ...,     1,   608,     1],\n",
              "       ...,\n",
              "       [ 9042,     7,     9, ...,     2,   252,     1],\n",
              "       [ 9717,     5,     6, ...,     0,   240,     0],\n",
              "       [ 9937,     5,     6, ...,     0,   276,     0]])"
            ]
          },
          "metadata": {
            "tags": []
          },
          "execution_count": 11
        }
      ]
    },
    {
      "cell_type": "markdown",
      "metadata": {
        "id": "gJVOaap-NMAI"
      },
      "source": [
        "# 2D Slicing in Python\n",
        "\n",
        "array[a:b, c:d]\n",
        "\n",
        "*   a = which row to start on\n",
        "*   b = which row to end on\n",
        "*   c = which column to start on\n",
        "*   d = which coulmn to end on\n"
      ]
    },
    {
      "cell_type": "code",
      "metadata": {
        "id": "u8nQZU4IPET5"
      },
      "source": [
        "#[a:b, c:d]\n",
        "#a:b = all rows are used, no rows are skipped out\n",
        "#c:d = all columns except the last one is used (the label column)\n",
        "features = dataset[ : , 0:10]\n",
        "\n",
        "#a:b = all rows used\n",
        "#c:d = column 10 to the rest used (last column)\n",
        "labels = dataset[:,10]"
      ],
      "execution_count": 12,
      "outputs": []
    },
    {
      "cell_type": "code",
      "metadata": {
        "id": "vTDOqwpJR4uL"
      },
      "source": [
        "#min-max scaler = scales all the data so the features lie between 0 and 1\n",
        "#some features have range [0,1] or [0,10], important to rescale\n",
        "#creates min max scaler object\n",
        "min_max_scaler = preprocessing.MinMaxScaler()\n",
        "\n",
        "#stores the newly scaled feature data array in feature_scale\n",
        "features_scaled = min_max_scaler.fit_transform(features)"
      ],
      "execution_count": 13,
      "outputs": []
    },
    {
      "cell_type": "code",
      "metadata": {
        "colab": {
          "base_uri": "https://localhost:8080/"
        },
        "id": "E6MlsNXSTE0E",
        "outputId": "d6eeab3b-925c-46d3-f5df-dfcad5143321"
      },
      "source": [
        "features_scaled"
      ],
      "execution_count": 14,
      "outputs": [
        {
          "output_type": "execute_result",
          "data": {
            "text/plain": [
              "array([[0.0334198 , 0.66666667, 0.5       , ..., 0.5       , 0.        ,\n",
              "        0.3864598 ],\n",
              "       [0.03879502, 0.55555556, 0.875     , ..., 0.33333333, 0.33333333,\n",
              "        0.32440056],\n",
              "       [0.04650728, 0.66666667, 0.5       , ..., 0.33333333, 0.33333333,\n",
              "        0.42877292],\n",
              "       ...,\n",
              "       [0.03618687, 0.66666667, 1.        , ..., 0.58333333, 0.66666667,\n",
              "        0.17771509],\n",
              "       [0.03934189, 0.44444444, 0.625     , ..., 0.25      , 0.        ,\n",
              "        0.16925247],\n",
              "       [0.04037019, 0.44444444, 0.625     , ..., 0.33333333, 0.        ,\n",
              "        0.19464034]])"
            ]
          },
          "metadata": {
            "tags": []
          },
          "execution_count": 14
        }
      ]
    },
    {
      "cell_type": "code",
      "metadata": {
        "id": "EQoPcTWCTQ91"
      },
      "source": [
        "#splitting data into train and validation/test\n",
        "#x_train and x_val_and_test = 70% features train, 30% features test\n",
        "#y_train and y_val_and_test = 70% labels train, 30% label test\n",
        "#a,b,c,d = train_test_split(features, labels, test_size)\n",
        "#percentage of the two feature and label arrays will go into b and d\n",
        "x_train, x_val_and_test, y_train, y_val_and_test = train_test_split(features_scaled, labels, test_size = 0.3)"
      ],
      "execution_count": 15,
      "outputs": []
    },
    {
      "cell_type": "code",
      "metadata": {
        "id": "x1wAOnr4UWx1"
      },
      "source": [
        "#splits the x_val_and_test + y_val_and_test arrays into 2 and puts them evenly in\n",
        "#respective x test and validate arrays\n",
        "x_val, x_test, y_val, y_test = train_test_split(x_val_and_test, y_val_and_test, test_size = 0.5)"
      ],
      "execution_count": 16,
      "outputs": []
    },
    {
      "cell_type": "markdown",
      "metadata": {
        "id": "hSA0vTivV2OS"
      },
      "source": [
        "Data Allocation\n",
        "\n",
        "1. x_train = 70% (10 features)\n",
        "2. x_val = 15% (10 features)\n",
        "3. x_test = 15% (10 features)\n",
        "\n",
        "4. y_train = 70% (1 label)\n",
        "5. y_val = 15% (1 label)\n",
        "6. y_test = 15% (1 label)\n"
      ]
    },
    {
      "cell_type": "code",
      "metadata": {
        "colab": {
          "base_uri": "https://localhost:8080/"
        },
        "id": "Nf7tWmzoV8A3",
        "outputId": "0bd0322f-c42d-43a6-ba03-dca976fd5187"
      },
      "source": [
        "#prints the shape of the arrays to give a good idea of what each array holds\n",
        "print(x_train.shape, x_val.shape, x_test.shape, y_train.shape, y_val.shape, y_test.shape)"
      ],
      "execution_count": 17,
      "outputs": [
        {
          "output_type": "stream",
          "text": [
            "(1022, 10) (219, 10) (219, 10) (1022,) (219,) (219,)\n"
          ],
          "name": "stdout"
        }
      ]
    },
    {
      "cell_type": "markdown",
      "metadata": {
        "id": "sHK4WYnKW3ME"
      },
      "source": [
        "# DATA PREPROCESSING DONE\n",
        "Summary:\n",
        "\n",
        "1. imported all the packages\n",
        "2. imported the data file\n",
        "3. turned the data into an array\n",
        "4. stored the feature/label data into x and y arrays\n",
        "5. normalized the feature data using min_max_scaler.fit_transform(x)\n",
        "6. split the data into training, validation, and test"
      ]
    },
    {
      "cell_type": "markdown",
      "metadata": {
        "id": "9i2lumRaXoH-"
      },
      "source": [
        "# BUILDING THE NEURAL NETWORK"
      ]
    },
    {
      "cell_type": "code",
      "metadata": {
        "id": "BO2nsSEGWTib"
      },
      "source": [
        "#model stored in \"model\" variable\n",
        "#layer 1 = 32 layers, input_shape = 10 inputs\n",
        "#no need to create input layer, creating the hidden layer initiatlizes the input layer\n",
        "\n",
        "model = Sequential([\n",
        "    Dense(32, activation = 'relu', input_shape = (10,)),\n",
        "    Dense(32, activation = 'relu'),\n",
        "    Dense(1, activation = 'sigmoid')\n",
        "])"
      ],
      "execution_count": 18,
      "outputs": []
    },
    {
      "cell_type": "code",
      "metadata": {
        "id": "AoTmuUZlYav-"
      },
      "source": [
        "#sgd = stochatic gradient descent, backpropogation on every iteration\n",
        "#binary_crossentropy = loss function used for binary classification problems\n",
        "#metrics = optional field, provides accuracy of the model\n",
        "\n",
        "model.compile(optimizer = 'sgd',\n",
        "              loss = 'binary_crossentropy',\n",
        "              metrics = ['accuracy'])"
      ],
      "execution_count": 19,
      "outputs": []
    },
    {
      "cell_type": "code",
      "metadata": {
        "colab": {
          "base_uri": "https://localhost:8080/"
        },
        "id": "FKu7uJuiZHzm",
        "outputId": "8c29fb3d-27fd-4212-9580-aa60c52b86ff"
      },
      "source": [
        "#fit fucntion = trains the model based on the data, x_train and y_train\n",
        "hist = model.fit(x_train, y_train, \n",
        "          batch_size = 32, epochs = 100,\n",
        "          validation_data = (x_val, y_val))"
      ],
      "execution_count": 20,
      "outputs": [
        {
          "output_type": "stream",
          "text": [
            "Epoch 1/100\n",
            "32/32 [==============================] - 14s 17ms/step - loss: 0.6943 - accuracy: 0.4726 - val_loss: 0.6895 - val_accuracy: 0.5160\n",
            "Epoch 2/100\n",
            "32/32 [==============================] - 0s 2ms/step - loss: 0.6910 - accuracy: 0.4784 - val_loss: 0.6873 - val_accuracy: 0.5114\n",
            "Epoch 3/100\n",
            "32/32 [==============================] - 0s 2ms/step - loss: 0.6887 - accuracy: 0.4958 - val_loss: 0.6851 - val_accuracy: 0.5753\n",
            "Epoch 4/100\n",
            "32/32 [==============================] - 0s 2ms/step - loss: 0.6837 - accuracy: 0.6728 - val_loss: 0.6827 - val_accuracy: 0.6941\n",
            "Epoch 5/100\n",
            "32/32 [==============================] - 0s 2ms/step - loss: 0.6823 - accuracy: 0.6858 - val_loss: 0.6802 - val_accuracy: 0.7626\n",
            "Epoch 6/100\n",
            "32/32 [==============================] - 0s 2ms/step - loss: 0.6781 - accuracy: 0.7270 - val_loss: 0.6780 - val_accuracy: 0.7626\n",
            "Epoch 7/100\n",
            "32/32 [==============================] - 0s 2ms/step - loss: 0.6758 - accuracy: 0.7229 - val_loss: 0.6757 - val_accuracy: 0.7443\n",
            "Epoch 8/100\n",
            "32/32 [==============================] - 0s 2ms/step - loss: 0.6727 - accuracy: 0.7362 - val_loss: 0.6734 - val_accuracy: 0.7352\n",
            "Epoch 9/100\n",
            "32/32 [==============================] - 0s 2ms/step - loss: 0.6702 - accuracy: 0.7049 - val_loss: 0.6709 - val_accuracy: 0.7260\n",
            "Epoch 10/100\n",
            "32/32 [==============================] - 0s 2ms/step - loss: 0.6680 - accuracy: 0.7124 - val_loss: 0.6682 - val_accuracy: 0.7260\n",
            "Epoch 11/100\n",
            "32/32 [==============================] - 0s 2ms/step - loss: 0.6636 - accuracy: 0.7293 - val_loss: 0.6653 - val_accuracy: 0.7215\n",
            "Epoch 12/100\n",
            "32/32 [==============================] - 0s 2ms/step - loss: 0.6573 - accuracy: 0.7308 - val_loss: 0.6620 - val_accuracy: 0.7123\n",
            "Epoch 13/100\n",
            "32/32 [==============================] - 0s 2ms/step - loss: 0.6552 - accuracy: 0.7621 - val_loss: 0.6585 - val_accuracy: 0.7215\n",
            "Epoch 14/100\n",
            "32/32 [==============================] - 0s 2ms/step - loss: 0.6526 - accuracy: 0.7275 - val_loss: 0.6548 - val_accuracy: 0.7260\n",
            "Epoch 15/100\n",
            "32/32 [==============================] - 0s 2ms/step - loss: 0.6476 - accuracy: 0.7243 - val_loss: 0.6510 - val_accuracy: 0.7260\n",
            "Epoch 16/100\n",
            "32/32 [==============================] - 0s 3ms/step - loss: 0.6387 - accuracy: 0.7739 - val_loss: 0.6469 - val_accuracy: 0.7352\n",
            "Epoch 17/100\n",
            "32/32 [==============================] - 0s 2ms/step - loss: 0.6339 - accuracy: 0.7578 - val_loss: 0.6428 - val_accuracy: 0.7397\n",
            "Epoch 18/100\n",
            "32/32 [==============================] - 0s 2ms/step - loss: 0.6349 - accuracy: 0.7417 - val_loss: 0.6386 - val_accuracy: 0.7443\n",
            "Epoch 19/100\n",
            "32/32 [==============================] - 0s 2ms/step - loss: 0.6297 - accuracy: 0.7515 - val_loss: 0.6341 - val_accuracy: 0.7626\n",
            "Epoch 20/100\n",
            "32/32 [==============================] - 0s 2ms/step - loss: 0.6221 - accuracy: 0.7539 - val_loss: 0.6294 - val_accuracy: 0.7580\n",
            "Epoch 21/100\n",
            "32/32 [==============================] - 0s 2ms/step - loss: 0.6226 - accuracy: 0.7580 - val_loss: 0.6244 - val_accuracy: 0.7626\n",
            "Epoch 22/100\n",
            "32/32 [==============================] - 0s 2ms/step - loss: 0.6138 - accuracy: 0.7400 - val_loss: 0.6186 - val_accuracy: 0.7626\n",
            "Epoch 23/100\n",
            "32/32 [==============================] - 0s 2ms/step - loss: 0.6055 - accuracy: 0.7678 - val_loss: 0.6126 - val_accuracy: 0.7717\n",
            "Epoch 24/100\n",
            "32/32 [==============================] - 0s 2ms/step - loss: 0.6050 - accuracy: 0.7689 - val_loss: 0.6065 - val_accuracy: 0.7763\n",
            "Epoch 25/100\n",
            "32/32 [==============================] - 0s 2ms/step - loss: 0.5978 - accuracy: 0.7631 - val_loss: 0.6004 - val_accuracy: 0.7808\n",
            "Epoch 26/100\n",
            "32/32 [==============================] - 0s 2ms/step - loss: 0.5889 - accuracy: 0.7801 - val_loss: 0.5942 - val_accuracy: 0.7763\n",
            "Epoch 27/100\n",
            "32/32 [==============================] - 0s 2ms/step - loss: 0.5709 - accuracy: 0.7889 - val_loss: 0.5875 - val_accuracy: 0.7808\n",
            "Epoch 28/100\n",
            "32/32 [==============================] - 0s 2ms/step - loss: 0.5742 - accuracy: 0.7880 - val_loss: 0.5807 - val_accuracy: 0.7854\n",
            "Epoch 29/100\n",
            "32/32 [==============================] - 0s 2ms/step - loss: 0.5690 - accuracy: 0.7890 - val_loss: 0.5738 - val_accuracy: 0.7854\n",
            "Epoch 30/100\n",
            "32/32 [==============================] - 0s 2ms/step - loss: 0.5599 - accuracy: 0.7911 - val_loss: 0.5667 - val_accuracy: 0.7900\n",
            "Epoch 31/100\n",
            "32/32 [==============================] - 0s 2ms/step - loss: 0.5543 - accuracy: 0.7962 - val_loss: 0.5590 - val_accuracy: 0.7945\n",
            "Epoch 32/100\n",
            "32/32 [==============================] - 0s 2ms/step - loss: 0.5449 - accuracy: 0.7995 - val_loss: 0.5515 - val_accuracy: 0.7945\n",
            "Epoch 33/100\n",
            "32/32 [==============================] - 0s 2ms/step - loss: 0.5530 - accuracy: 0.7926 - val_loss: 0.5440 - val_accuracy: 0.7945\n",
            "Epoch 34/100\n",
            "32/32 [==============================] - 0s 2ms/step - loss: 0.5287 - accuracy: 0.8069 - val_loss: 0.5359 - val_accuracy: 0.8128\n",
            "Epoch 35/100\n",
            "32/32 [==============================] - 0s 2ms/step - loss: 0.5213 - accuracy: 0.7909 - val_loss: 0.5280 - val_accuracy: 0.8128\n",
            "Epoch 36/100\n",
            "32/32 [==============================] - 0s 2ms/step - loss: 0.5158 - accuracy: 0.8270 - val_loss: 0.5205 - val_accuracy: 0.8128\n",
            "Epoch 37/100\n",
            "32/32 [==============================] - 0s 2ms/step - loss: 0.5156 - accuracy: 0.8111 - val_loss: 0.5124 - val_accuracy: 0.8128\n",
            "Epoch 38/100\n",
            "32/32 [==============================] - 0s 2ms/step - loss: 0.4983 - accuracy: 0.8216 - val_loss: 0.5048 - val_accuracy: 0.8128\n",
            "Epoch 39/100\n",
            "32/32 [==============================] - 0s 2ms/step - loss: 0.4837 - accuracy: 0.8239 - val_loss: 0.4967 - val_accuracy: 0.8219\n",
            "Epoch 40/100\n",
            "32/32 [==============================] - 0s 2ms/step - loss: 0.4787 - accuracy: 0.8149 - val_loss: 0.4889 - val_accuracy: 0.8174\n",
            "Epoch 41/100\n",
            "32/32 [==============================] - 0s 2ms/step - loss: 0.4636 - accuracy: 0.8255 - val_loss: 0.4812 - val_accuracy: 0.8174\n",
            "Epoch 42/100\n",
            "32/32 [==============================] - 0s 2ms/step - loss: 0.4635 - accuracy: 0.8365 - val_loss: 0.4746 - val_accuracy: 0.8219\n",
            "Epoch 43/100\n",
            "32/32 [==============================] - 0s 2ms/step - loss: 0.4614 - accuracy: 0.8171 - val_loss: 0.4667 - val_accuracy: 0.8174\n",
            "Epoch 44/100\n",
            "32/32 [==============================] - 0s 2ms/step - loss: 0.4409 - accuracy: 0.8390 - val_loss: 0.4596 - val_accuracy: 0.8174\n",
            "Epoch 45/100\n",
            "32/32 [==============================] - 0s 2ms/step - loss: 0.4369 - accuracy: 0.8474 - val_loss: 0.4529 - val_accuracy: 0.8174\n",
            "Epoch 46/100\n",
            "32/32 [==============================] - 0s 2ms/step - loss: 0.4376 - accuracy: 0.8311 - val_loss: 0.4468 - val_accuracy: 0.8265\n",
            "Epoch 47/100\n",
            "32/32 [==============================] - 0s 2ms/step - loss: 0.4309 - accuracy: 0.8370 - val_loss: 0.4401 - val_accuracy: 0.8265\n",
            "Epoch 48/100\n",
            "32/32 [==============================] - 0s 2ms/step - loss: 0.4057 - accuracy: 0.8483 - val_loss: 0.4333 - val_accuracy: 0.8219\n",
            "Epoch 49/100\n",
            "32/32 [==============================] - 0s 2ms/step - loss: 0.4239 - accuracy: 0.8335 - val_loss: 0.4275 - val_accuracy: 0.8265\n",
            "Epoch 50/100\n",
            "32/32 [==============================] - 0s 2ms/step - loss: 0.4046 - accuracy: 0.8463 - val_loss: 0.4227 - val_accuracy: 0.8311\n",
            "Epoch 51/100\n",
            "32/32 [==============================] - 0s 2ms/step - loss: 0.4009 - accuracy: 0.8750 - val_loss: 0.4159 - val_accuracy: 0.8311\n",
            "Epoch 52/100\n",
            "32/32 [==============================] - 0s 3ms/step - loss: 0.3949 - accuracy: 0.8665 - val_loss: 0.4107 - val_accuracy: 0.8311\n",
            "Epoch 53/100\n",
            "32/32 [==============================] - 0s 3ms/step - loss: 0.4062 - accuracy: 0.8460 - val_loss: 0.4061 - val_accuracy: 0.8265\n",
            "Epoch 54/100\n",
            "32/32 [==============================] - 0s 3ms/step - loss: 0.3794 - accuracy: 0.8510 - val_loss: 0.4024 - val_accuracy: 0.8265\n",
            "Epoch 55/100\n",
            "32/32 [==============================] - 0s 2ms/step - loss: 0.3866 - accuracy: 0.8672 - val_loss: 0.3961 - val_accuracy: 0.8265\n",
            "Epoch 56/100\n",
            "32/32 [==============================] - 0s 2ms/step - loss: 0.3799 - accuracy: 0.8505 - val_loss: 0.3923 - val_accuracy: 0.8265\n",
            "Epoch 57/100\n",
            "32/32 [==============================] - 0s 2ms/step - loss: 0.3725 - accuracy: 0.8745 - val_loss: 0.3861 - val_accuracy: 0.8402\n",
            "Epoch 58/100\n",
            "32/32 [==============================] - 0s 2ms/step - loss: 0.3710 - accuracy: 0.8647 - val_loss: 0.3829 - val_accuracy: 0.8311\n",
            "Epoch 59/100\n",
            "32/32 [==============================] - 0s 2ms/step - loss: 0.3586 - accuracy: 0.8741 - val_loss: 0.3788 - val_accuracy: 0.8356\n",
            "Epoch 60/100\n",
            "32/32 [==============================] - 0s 2ms/step - loss: 0.3614 - accuracy: 0.8727 - val_loss: 0.3769 - val_accuracy: 0.8311\n",
            "Epoch 61/100\n",
            "32/32 [==============================] - 0s 3ms/step - loss: 0.3621 - accuracy: 0.8637 - val_loss: 0.3714 - val_accuracy: 0.8402\n",
            "Epoch 62/100\n",
            "32/32 [==============================] - 0s 2ms/step - loss: 0.3493 - accuracy: 0.8728 - val_loss: 0.3686 - val_accuracy: 0.8402\n",
            "Epoch 63/100\n",
            "32/32 [==============================] - 0s 2ms/step - loss: 0.3425 - accuracy: 0.8723 - val_loss: 0.3665 - val_accuracy: 0.8447\n",
            "Epoch 64/100\n",
            "32/32 [==============================] - 0s 2ms/step - loss: 0.3405 - accuracy: 0.8728 - val_loss: 0.3612 - val_accuracy: 0.8402\n",
            "Epoch 65/100\n",
            "32/32 [==============================] - 0s 2ms/step - loss: 0.3477 - accuracy: 0.8707 - val_loss: 0.3593 - val_accuracy: 0.8447\n",
            "Epoch 66/100\n",
            "32/32 [==============================] - 0s 2ms/step - loss: 0.3218 - accuracy: 0.8895 - val_loss: 0.3555 - val_accuracy: 0.8447\n",
            "Epoch 67/100\n",
            "32/32 [==============================] - 0s 2ms/step - loss: 0.3266 - accuracy: 0.8804 - val_loss: 0.3540 - val_accuracy: 0.8584\n",
            "Epoch 68/100\n",
            "32/32 [==============================] - 0s 2ms/step - loss: 0.3352 - accuracy: 0.8737 - val_loss: 0.3494 - val_accuracy: 0.8447\n",
            "Epoch 69/100\n",
            "32/32 [==============================] - 0s 2ms/step - loss: 0.3272 - accuracy: 0.8693 - val_loss: 0.3491 - val_accuracy: 0.8630\n",
            "Epoch 70/100\n",
            "32/32 [==============================] - 0s 2ms/step - loss: 0.3275 - accuracy: 0.8709 - val_loss: 0.3449 - val_accuracy: 0.8539\n",
            "Epoch 71/100\n",
            "32/32 [==============================] - 0s 2ms/step - loss: 0.3112 - accuracy: 0.8899 - val_loss: 0.3442 - val_accuracy: 0.8676\n",
            "Epoch 72/100\n",
            "32/32 [==============================] - 0s 2ms/step - loss: 0.3219 - accuracy: 0.8880 - val_loss: 0.3406 - val_accuracy: 0.8584\n",
            "Epoch 73/100\n",
            "32/32 [==============================] - 0s 2ms/step - loss: 0.2897 - accuracy: 0.9013 - val_loss: 0.3390 - val_accuracy: 0.8630\n",
            "Epoch 74/100\n",
            "32/32 [==============================] - 0s 2ms/step - loss: 0.3244 - accuracy: 0.8800 - val_loss: 0.3373 - val_accuracy: 0.8630\n",
            "Epoch 75/100\n",
            "32/32 [==============================] - 0s 2ms/step - loss: 0.3313 - accuracy: 0.8778 - val_loss: 0.3341 - val_accuracy: 0.8539\n",
            "Epoch 76/100\n",
            "32/32 [==============================] - 0s 2ms/step - loss: 0.2888 - accuracy: 0.9003 - val_loss: 0.3320 - val_accuracy: 0.8584\n",
            "Epoch 77/100\n",
            "32/32 [==============================] - 0s 2ms/step - loss: 0.3214 - accuracy: 0.8750 - val_loss: 0.3295 - val_accuracy: 0.8539\n",
            "Epoch 78/100\n",
            "32/32 [==============================] - 0s 2ms/step - loss: 0.3064 - accuracy: 0.8841 - val_loss: 0.3287 - val_accuracy: 0.8584\n",
            "Epoch 79/100\n",
            "32/32 [==============================] - 0s 2ms/step - loss: 0.2958 - accuracy: 0.8842 - val_loss: 0.3280 - val_accuracy: 0.8630\n",
            "Epoch 80/100\n",
            "32/32 [==============================] - 0s 2ms/step - loss: 0.3095 - accuracy: 0.8904 - val_loss: 0.3265 - val_accuracy: 0.8630\n",
            "Epoch 81/100\n",
            "32/32 [==============================] - 0s 2ms/step - loss: 0.3039 - accuracy: 0.8840 - val_loss: 0.3262 - val_accuracy: 0.8630\n",
            "Epoch 82/100\n",
            "32/32 [==============================] - 0s 2ms/step - loss: 0.2945 - accuracy: 0.8856 - val_loss: 0.3239 - val_accuracy: 0.8630\n",
            "Epoch 83/100\n",
            "32/32 [==============================] - 0s 2ms/step - loss: 0.2950 - accuracy: 0.8953 - val_loss: 0.3213 - val_accuracy: 0.8676\n",
            "Epoch 84/100\n",
            "32/32 [==============================] - 0s 2ms/step - loss: 0.3099 - accuracy: 0.8761 - val_loss: 0.3207 - val_accuracy: 0.8630\n",
            "Epoch 85/100\n",
            "32/32 [==============================] - 0s 3ms/step - loss: 0.3197 - accuracy: 0.8785 - val_loss: 0.3210 - val_accuracy: 0.8721\n",
            "Epoch 86/100\n",
            "32/32 [==============================] - 0s 2ms/step - loss: 0.2859 - accuracy: 0.8996 - val_loss: 0.3183 - val_accuracy: 0.8676\n",
            "Epoch 87/100\n",
            "32/32 [==============================] - 0s 2ms/step - loss: 0.3124 - accuracy: 0.8752 - val_loss: 0.3179 - val_accuracy: 0.8630\n",
            "Epoch 88/100\n",
            "32/32 [==============================] - 0s 2ms/step - loss: 0.3071 - accuracy: 0.8816 - val_loss: 0.3181 - val_accuracy: 0.8676\n",
            "Epoch 89/100\n",
            "32/32 [==============================] - 0s 2ms/step - loss: 0.3023 - accuracy: 0.8872 - val_loss: 0.3154 - val_accuracy: 0.8676\n",
            "Epoch 90/100\n",
            "32/32 [==============================] - 0s 2ms/step - loss: 0.2752 - accuracy: 0.8977 - val_loss: 0.3165 - val_accuracy: 0.8676\n",
            "Epoch 91/100\n",
            "32/32 [==============================] - 0s 2ms/step - loss: 0.2998 - accuracy: 0.8827 - val_loss: 0.3126 - val_accuracy: 0.8676\n",
            "Epoch 92/100\n",
            "32/32 [==============================] - 0s 2ms/step - loss: 0.3052 - accuracy: 0.8786 - val_loss: 0.3133 - val_accuracy: 0.8721\n",
            "Epoch 93/100\n",
            "32/32 [==============================] - 0s 2ms/step - loss: 0.2793 - accuracy: 0.8774 - val_loss: 0.3110 - val_accuracy: 0.8630\n",
            "Epoch 94/100\n",
            "32/32 [==============================] - 0s 2ms/step - loss: 0.2722 - accuracy: 0.8900 - val_loss: 0.3074 - val_accuracy: 0.8630\n",
            "Epoch 95/100\n",
            "32/32 [==============================] - 0s 2ms/step - loss: 0.2788 - accuracy: 0.8873 - val_loss: 0.3079 - val_accuracy: 0.8630\n",
            "Epoch 96/100\n",
            "32/32 [==============================] - 0s 2ms/step - loss: 0.2747 - accuracy: 0.9014 - val_loss: 0.3118 - val_accuracy: 0.8767\n",
            "Epoch 97/100\n",
            "32/32 [==============================] - 0s 2ms/step - loss: 0.2999 - accuracy: 0.8719 - val_loss: 0.3087 - val_accuracy: 0.8676\n",
            "Epoch 98/100\n",
            "32/32 [==============================] - 0s 2ms/step - loss: 0.2950 - accuracy: 0.8824 - val_loss: 0.3094 - val_accuracy: 0.8676\n",
            "Epoch 99/100\n",
            "32/32 [==============================] - 0s 2ms/step - loss: 0.2752 - accuracy: 0.8941 - val_loss: 0.3074 - val_accuracy: 0.8676\n",
            "Epoch 100/100\n",
            "32/32 [==============================] - 0s 2ms/step - loss: 0.2669 - accuracy: 0.8924 - val_loss: 0.3059 - val_accuracy: 0.8676\n"
          ],
          "name": "stdout"
        }
      ]
    },
    {
      "cell_type": "code",
      "metadata": {
        "colab": {
          "base_uri": "https://localhost:8080/"
        },
        "id": "NNdJigj7aN06",
        "outputId": "39b1cd41-d042-40e7-fd56-178b51440904"
      },
      "source": [
        "#runs the model on the test set\n",
        "#[1] prints the accuracy, since the model will print the loss and accuracy otherwise\n",
        "model.evaluate(x_test, y_test)[1]"
      ],
      "execution_count": 21,
      "outputs": [
        {
          "output_type": "stream",
          "text": [
            "7/7 [==============================] - 0s 2ms/step - loss: 0.3264 - accuracy: 0.8721\n"
          ],
          "name": "stdout"
        },
        {
          "output_type": "execute_result",
          "data": {
            "text/plain": [
              "0.8721461296081543"
            ]
          },
          "metadata": {
            "tags": []
          },
          "execution_count": 21
        }
      ]
    },
    {
      "cell_type": "markdown",
      "metadata": {
        "id": "b0_lVBbqyMxn"
      },
      "source": [
        "# VISUALIZING THE MODEL"
      ]
    },
    {
      "cell_type": "code",
      "metadata": {
        "id": "3ZudBPIIySQX"
      },
      "source": [
        "import matplotlib.pyplot as plt\n"
      ],
      "execution_count": 22,
      "outputs": []
    },
    {
      "cell_type": "code",
      "metadata": {
        "colab": {
          "base_uri": "https://localhost:8080/",
          "height": 295
        },
        "id": "KhmFlL2_ybIi",
        "outputId": "4392ea77-7b42-4576-abc6-697683c666d2"
      },
      "source": [
        "#plot the loss and val_loss, actually visualizing the data\n",
        "plt.plot(hist.history['loss'])\n",
        "plt.plot(hist.history['val_loss'])\n",
        "\n",
        "#labels\n",
        "plt.title('Model Loss')\n",
        "plt.ylabel('Loss')\n",
        "plt.xlabel('Epoch')\n",
        "plt.legend(['Train', 'Val'], loc = 'upper right')\n",
        "\n",
        "#show the plt\n",
        "plt.show()"
      ],
      "execution_count": 26,
      "outputs": [
        {
          "output_type": "display_data",
          "data": {
            "image/png": "[encoded data removed]",
            "text/plain": [
              "<Figure size 432x288 with 1 Axes>"
            ]
          },
          "metadata": {
            "tags": [],
            "needs_background": "light"
          }
        }
      ]
    },
    {
      "cell_type": "code",
      "metadata": {
        "colab": {
          "base_uri": "https://localhost:8080/",
          "height": 295
        },
        "id": "VExb68Tozxhz",
        "outputId": "f0cd1625-11fb-44a1-c6ad-d599056db041"
      },
      "source": [
        "plt.plot(hist.history['accuracy'])\n",
        "plt.plot(hist.history['val_accuracy'])\n",
        "plt.title('Model accuracy')\n",
        "plt.ylabel('Accuracy')\n",
        "plt.xlabel('Epoch')\n",
        "plt.legend(['Train', 'Val'], loc='lower right')\n",
        "plt.show()"
      ],
      "execution_count": 29,
      "outputs": [
        {
          "output_type": "display_data",
          "data": {
            "image/png": "[encoded data removed]",
            "text/plain": [
              "<Figure size 432x288 with 1 Axes>"
            ]
          },
          "metadata": {
            "tags": [],
            "needs_background": "light"
          }
        }
      ]
    }
  ]
}