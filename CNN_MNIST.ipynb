{
  "nbformat": 4,
  "nbformat_minor": 0,
  "metadata": {
    "colab": {
      "name": "CNN_MNIST.ipynb",
      "provenance": [],
      "authorship_tag": "ABX9TyOj6g75piq1jmcm+wJICmKx",
      "include_colab_link": true
    },
    "kernelspec": {
      "name": "python3",
      "display_name": "Python 3"
    },
    "language_info": {
      "name": "python"
    },
    "accelerator": "GPU"
  },
  "cells": [
    {
      "cell_type": "markdown",
      "metadata": {
        "id": "view-in-github",
        "colab_type": "text"
      },
      "source": [
        "<a href=\"https://colab.research.google.com/github/snickerphudle/FutureMakers2021/blob/main/CNN_MNIST.ipynb\" target=\"_parent\"><img src=\"https://colab.research.google.com/assets/colab-badge.svg\" alt=\"Open In Colab\"/></a>"
      ]
    },
    {
      "cell_type": "code",
      "metadata": {
        "id": "0qyfW-H7UCtC"
      },
      "source": [
        "#import a bunch of stuff\n",
        "\n",
        "import numpy as np\n",
        "import pandas as pd\n",
        "\n",
        "#visualization\n",
        "import seaborn as sns\n",
        "import matplotlib.pyplot as plt\n",
        "\n",
        "#data processing\n",
        "from sklearn.model_selection import train_test_split\n",
        "from sklearn.metrics import confusion_matrix\n",
        "\n",
        "#model\n",
        "from keras.models import Sequential\n",
        "from keras.layers import Conv2D, MaxPool2D, Flatten, Dropout, Dense\n",
        "from keras.optimizers import Adam, SGD\n",
        "\n",
        "#dataset\n",
        "from tensorflow.keras.datasets import mnist\n",
        "import tensorflow as tf"
      ],
      "execution_count": 1,
      "outputs": []
    },
    {
      "cell_type": "code",
      "metadata": {
        "colab": {
          "base_uri": "https://localhost:8080/"
        },
        "id": "M7NoSI9VU2fI",
        "outputId": "1e34e31d-c9c0-4e02-c94b-77c8cb36b700"
      },
      "source": [
        "#import data\n",
        "(X_train, y_train), (X_test, y_test) = mnist.load_data()"
      ],
      "execution_count": 2,
      "outputs": [
        {
          "output_type": "stream",
          "text": [
            "Downloading data from https://storage.googleapis.com/tensorflow/tf-keras-datasets/mnist.npz\n",
            "11493376/11490434 [==============================] - 0s 0us/step\n"
          ],
          "name": "stdout"
        }
      ]
    },
    {
      "cell_type": "code",
      "metadata": {
        "id": "5BklYdsiaJZI"
      },
      "source": [
        "#images are arrays of pixels, easy way to normalize it by dividing by 255 so each pixel will be in the range of [0,1]\n",
        "X_train = X_train / 255.0\n",
        "X_test = X_test / 255.0"
      ],
      "execution_count": 3,
      "outputs": []
    },
    {
      "cell_type": "code",
      "metadata": {
        "id": "gHDn3OLWVoxx"
      },
      "source": [
        "#one-hot encoding\n",
        "from tensorflow.keras.utils import to_categorical\n",
        "\n",
        "y_train = to_categorical(y_train, num_classes = 10)\n",
        "y_test = to_categorical(y_test, num_classes = 10)"
      ],
      "execution_count": 4,
      "outputs": []
    },
    {
      "cell_type": "code",
      "metadata": {
        "id": "LkqNC1qvX9ro"
      },
      "source": [
        "#reshape. 2DConv Layer requires input of 4D = (batch_size, height, width, color channel)\n",
        "#-1 is a hack which means give me everything\n",
        "#since we're resizing to the same 28x28, it will be 60000\n",
        "#if we don't know the dimensions, use -1 so it will do the calculation.\n",
        "\n",
        "X_train = X_train.reshape(-1, 28, 28, 1)\n",
        "X_test = X_test.reshape(-1, 28, 28, 1)"
      ],
      "execution_count": 5,
      "outputs": []
    },
    {
      "cell_type": "code",
      "metadata": {
        "id": "BbFKOrz4Z2WA"
      },
      "source": [
        "#building model architecture\n",
        "#conv pool conv pool flatten dense dense\n",
        "model = Sequential()\n",
        "\n",
        "#conv + pooling, feature extraction\n",
        "#filters, kernel, default padding, default stride, activation, input_shape\n",
        "model.add(Conv2D(filters = 20, kernel_size = (3,3), activation = 'relu', input_shape = (28, 28, 1)))\n",
        "model.add(MaxPool2D(pool_size = (2,2)))\n",
        "model.add(Conv2D(filters = 10, kernel_size = (3,3), activation = 'relu'))\n",
        "model.add(MaxPool2D(pool_size = (2,2)))\n",
        "\n",
        "#flatten feature maps\n",
        "model.add(Flatten())\n",
        "\n",
        "#dense layers, fully connected\n",
        "model.add(Dense(units = 64, activation = 'relu'))\n",
        "\n",
        "#prevent dropout, good rate is 0.2 - 0.5\n",
        "#penalize model based on decisions it makes because of features\n",
        "model.add(Dropout(rate = 0.2))\n",
        "\n",
        "#output layer\n",
        "model.add(Dense(units = 10, activation = 'softmax'))"
      ],
      "execution_count": 6,
      "outputs": []
    },
    {
      "cell_type": "code",
      "metadata": {
        "colab": {
          "base_uri": "https://localhost:8080/"
        },
        "id": "e5bV9AS8ci1x",
        "outputId": "1ff17cfb-f7d6-4ebf-d1d7-4b2455961d43"
      },
      "source": [
        "#usually good to add\n",
        "model.summary()"
      ],
      "execution_count": 7,
      "outputs": [
        {
          "output_type": "stream",
          "text": [
            "Model: \"sequential\"\n",
            "_________________________________________________________________\n",
            "Layer (type)                 Output Shape              Param #   \n",
            "=================================================================\n",
            "conv2d (Conv2D)              (None, 26, 26, 20)        200       \n",
            "_________________________________________________________________\n",
            "max_pooling2d (MaxPooling2D) (None, 13, 13, 20)        0         \n",
            "_________________________________________________________________\n",
            "conv2d_1 (Conv2D)            (None, 11, 11, 10)        1810      \n",
            "_________________________________________________________________\n",
            "max_pooling2d_1 (MaxPooling2 (None, 5, 5, 10)          0         \n",
            "_________________________________________________________________\n",
            "flatten (Flatten)            (None, 250)               0         \n",
            "_________________________________________________________________\n",
            "dense (Dense)                (None, 64)                16064     \n",
            "_________________________________________________________________\n",
            "dropout (Dropout)            (None, 64)                0         \n",
            "_________________________________________________________________\n",
            "dense_1 (Dense)              (None, 10)                650       \n",
            "=================================================================\n",
            "Total params: 18,724\n",
            "Trainable params: 18,724\n",
            "Non-trainable params: 0\n",
            "_________________________________________________________________\n"
          ],
          "name": "stdout"
        }
      ]
    },
    {
      "cell_type": "code",
      "metadata": {
        "id": "0qqFvd5odwS9"
      },
      "source": [
        "# Optimizer\n",
        "#learning rate is one of the most important hyperparameters\n",
        "#optimizer = SGD(learning_rate = 0.01, momentum = 0.99)\n",
        "#momentum is good for dealing with outliers\n",
        "\n",
        "a = Adam(learning_rate = 0.001)\n",
        "\n",
        "model.compile(optimizer = a, loss = 'categorical_crossentropy', metrics = ['accuracy'])"
      ],
      "execution_count": 14,
      "outputs": []
    },
    {
      "cell_type": "code",
      "metadata": {
        "id": "KJeJ3rKefHTL"
      },
      "source": [
        "#SDG - 1 -> update\n",
        "#Mini-batch = 1-60000 -> update\n",
        "#batch = 60000 -> update\n",
        "\n",
        "#small batch -> outliers will throw off the model a lot\n",
        "#large batch size -> longer to reach minima\n",
        "#mini batch = perfect :D\n",
        "\n",
        "#powers of 2 are generally good\n",
        "BATCH_SIZE = 32\n",
        "EPOCHS = 10"
      ],
      "execution_count": 9,
      "outputs": []
    },
    {
      "cell_type": "code",
      "metadata": {
        "colab": {
          "base_uri": "https://localhost:8080/"
        },
        "id": "sLSPyeEcglC8",
        "outputId": "487c6d3e-a5aa-49f1-c5f4-4fb281690866"
      },
      "source": [
        "history = model.fit(X_train, y_train, batch_size = BATCH_SIZE, epochs = EPOCHS, validation_data = (X_test, y_test))"
      ],
      "execution_count": 15,
      "outputs": [
        {
          "output_type": "stream",
          "text": [
            "Epoch 1/10\n",
            "1875/1875 [==============================] - 8s 4ms/step - loss: 2.3074 - accuracy: 0.1028 - val_loss: 2.3011 - val_accuracy: 0.1135\n",
            "Epoch 2/10\n",
            "1875/1875 [==============================] - 8s 4ms/step - loss: 2.3010 - accuracy: 0.1143 - val_loss: 2.3010 - val_accuracy: 0.1135\n",
            "Epoch 3/10\n",
            "1875/1875 [==============================] - 7s 4ms/step - loss: 2.3013 - accuracy: 0.1130 - val_loss: 2.3010 - val_accuracy: 0.1135\n",
            "Epoch 4/10\n",
            "1875/1875 [==============================] - 7s 4ms/step - loss: 2.3011 - accuracy: 0.1147 - val_loss: 2.3012 - val_accuracy: 0.1135\n",
            "Epoch 5/10\n",
            "1875/1875 [==============================] - 7s 4ms/step - loss: 2.3012 - accuracy: 0.1123 - val_loss: 2.3011 - val_accuracy: 0.1135\n",
            "Epoch 6/10\n",
            "1875/1875 [==============================] - 7s 4ms/step - loss: 2.3014 - accuracy: 0.1127 - val_loss: 2.3010 - val_accuracy: 0.1135\n",
            "Epoch 7/10\n",
            "1875/1875 [==============================] - 8s 4ms/step - loss: 2.3012 - accuracy: 0.1128 - val_loss: 2.3012 - val_accuracy: 0.1135\n",
            "Epoch 8/10\n",
            "1875/1875 [==============================] - 8s 4ms/step - loss: 2.3013 - accuracy: 0.1120 - val_loss: 2.3012 - val_accuracy: 0.1135\n",
            "Epoch 9/10\n",
            "1875/1875 [==============================] - 7s 4ms/step - loss: 2.3014 - accuracy: 0.1116 - val_loss: 2.3010 - val_accuracy: 0.1135\n",
            "Epoch 10/10\n",
            "1875/1875 [==============================] - 7s 4ms/step - loss: 2.3010 - accuracy: 0.1155 - val_loss: 2.3011 - val_accuracy: 0.1135\n"
          ],
          "name": "stdout"
        }
      ]
    }
  ]
}